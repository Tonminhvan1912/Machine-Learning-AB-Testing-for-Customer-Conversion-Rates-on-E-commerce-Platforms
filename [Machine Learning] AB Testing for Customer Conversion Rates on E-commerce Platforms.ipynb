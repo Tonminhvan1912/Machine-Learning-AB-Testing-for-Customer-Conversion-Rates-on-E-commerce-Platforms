{
  "cells": [
    {
      "cell_type": "markdown",
      "source": [
        "# **1. Design A/B testing experiment**"
      ],
      "metadata": {
        "id": "8GD4P7_J0lon"
      },
      "id": "8GD4P7_J0lon"
    },
    {
      "cell_type": "markdown",
      "source": [
        "**Hypothesis Statement:** If we change the promotional content on the banner to align with Screen B, the conversion rate of users buying the membership subscription will be higher than Screen A\n",
        "\n",
        "**Measurable Metrics:**\n",
        "+ **Primary Metrics:** Conversion rate of users buying the subscription\n",
        "+ **Counter Metrics:** The lag time for loading banner\n",
        "\n",
        "**Sample pool:** All users who use our app\n",
        "\n",
        "**External Factors:** Bugs in user app, System Errors,..."
      ],
      "metadata": {
        "id": "eR7ZKY721K3h"
      },
      "id": "eR7ZKY721K3h"
    },
    {
      "cell_type": "markdown",
      "source": [
        "# **2. Hypothesis Testing**"
      ],
      "metadata": {
        "id": "Skgk-Sjz4hDZ"
      },
      "id": "Skgk-Sjz4hDZ"
    },
    {
      "cell_type": "code",
      "execution_count": null,
      "id": "fdfe1819-d535-4d41-ba10-63f36f172ed5",
      "metadata": {
        "id": "fdfe1819-d535-4d41-ba10-63f36f172ed5",
        "colab": {
          "base_uri": "https://localhost:8080/"
        },
        "outputId": "4d4c538e-0226-418c-ddef-b560e622caa0"
      },
      "outputs": [
        {
          "output_type": "stream",
          "name": "stdout",
          "text": [
            "[[ 5199  9826]\n",
            " [ 4357 10667]]\n"
          ]
        },
        {
          "output_type": "execute_result",
          "data": {
            "text/plain": [
              "Chi2ContingencyResult(statistic=108.44557259748902, pvalue=2.1466484109729665e-25, dof=1, expected_freq=array([[ 4778.15900696, 10246.84099304],\n",
              "       [ 4777.84099304, 10246.15900696]]))"
            ]
          },
          "metadata": {},
          "execution_count": 1
        }
      ],
      "source": [
        "from scipy.stats import chi2_contingency\n",
        "import pandas as pd\n",
        "import numpy as np\n",
        "#1. Create a contigency table\n",
        "df = pd.read_csv('abtesting.csv')\n",
        "group1 = df[df['group'] == 1]\n",
        "group2 = df[df['group'] == 2]\n",
        "\n",
        "group1__non_converted = group1.loc[group1['is_buy'] == 0]['is_buy'].count()\n",
        "group2__non_converted = group2.loc[group2['is_buy'] == 0]['is_buy'].count()\n",
        "\n",
        "group1__converted = group1.loc[group1['is_buy'] == 1]['is_buy'].count()\n",
        "group2__converted = group2.loc[group2['is_buy'] == 1]['is_buy'].count()\n",
        "\n",
        "contingency_table = np.array([[group1__converted,group1__non_converted],\n",
        "                              [group2__converted,group2__non_converted]])\n",
        "print(contingency_table)\n",
        "#2. Apply chi-square test:\n",
        "\n",
        "result = chi2_contingency(contingency_table,correction = True)\n",
        "result"
      ]
    },
    {
      "cell_type": "markdown",
      "source": [
        "**The test result is significant**\n",
        "\n",
        "H0: The conversion rate between Screen A & Screen B is not different\n",
        "\n",
        "H1: The conversion rate between Screen A & Screen B is different\n",
        "\n",
        "**Chi-square test result:**\n",
        "\n",
        "p_value = 0.0000 < 0.05\n",
        "\n",
        "==> Reject H0\n",
        "\n",
        "**The conversion rate between Screen A & Screen B is different**"
      ],
      "metadata": {
        "id": "lTQnKEm-NeKU"
      },
      "id": "lTQnKEm-NeKU"
    },
    {
      "cell_type": "code",
      "source": [
        "# Calculate the relative uplift in Conversion Rate\n",
        "group1_count = group1['is_buy'].count()\n",
        "group2_count = group2['is_buy'].count()\n",
        "conversionrategroup1 = group1__converted/group1_count\n",
        "conversionrategroup2 = group2__converted/group2_count\n",
        "relative_uplift = (conversionrategroup2 - conversionrategroup1)/conversionrategroup1\n",
        "print('Conversion rate group 1 is:' , conversionrategroup1)\n",
        "print('Conversion rate group 2 is:' , conversionrategroup2)\n",
        "print('Relative uplift is:' , relative_uplift)"
      ],
      "metadata": {
        "colab": {
          "base_uri": "https://localhost:8080/"
        },
        "id": "NuHYRIxu6U_2",
        "outputId": "49b2450e-bb3d-4665-d50f-8c5307f27392"
      },
      "id": "NuHYRIxu6U_2",
      "execution_count": null,
      "outputs": [
        {
          "output_type": "stream",
          "name": "stdout",
          "text": [
            "Conversion rate group 1 is: 0.3460232945091514\n",
            "Conversion rate group 2 is: 0.29000266240681577\n",
            "Relative uplift is: -0.16189844149597868\n"
          ]
        }
      ]
    },
    {
      "cell_type": "markdown",
      "source": [
        "Comment:\n",
        "\n",
        "+ Variation A has a **higher conversion rate** compared to Variation B.\n",
        "\n",
        "+ The relative uplift of -16% indicates that **Variation B has decreased by 16% compared to Variation A**.\n",
        "\n",
        "==> **Variation A is the better option**, as it has a higher conversion rate\n",
        "\n",
        "Notes:\n",
        "\n",
        "Variation A: Screen A\n",
        "\n",
        "Variation B: Screen B"
      ],
      "metadata": {
        "id": "rqv9hNIdTIbq"
      },
      "id": "rqv9hNIdTIbq"
    }
  ],
  "metadata": {
    "kernelspec": {
      "display_name": "Python 3 (ipykernel)",
      "language": "python",
      "name": "python3"
    },
    "language_info": {
      "codemirror_mode": {
        "name": "ipython",
        "version": 3
      },
      "file_extension": ".py",
      "mimetype": "text/x-python",
      "name": "python",
      "nbconvert_exporter": "python",
      "pygments_lexer": "ipython3",
      "version": "3.9.7"
    },
    "colab": {
      "provenance": []
    }
  },
  "nbformat": 4,
  "nbformat_minor": 5
}